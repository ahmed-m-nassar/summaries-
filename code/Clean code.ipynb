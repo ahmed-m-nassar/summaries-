{
 "cells": [
  {
   "cell_type": "markdown",
   "id": "9c0b8b1c",
   "metadata": {},
   "source": [
    "# Clean Code Principles\n",
    "## When to use clean code principles:\n",
    "\n",
    "- When the code will be used in a production setting.\n",
    "- When the code will be shared with others.\n",
    "- When the code is expected to be reused in the future.\n",
    "- When long-term maintenance and collaboration with other developers are required.\n",
    "- When code readability, maintainability, and bug prevention are important.\n",
    "\n",
    "## When not to use clean code principles:\n",
    "\n",
    "- When performing ad hoc analysis or working on a one-time project that won't be reused.\n",
    "- When time constraints are severe and the focus is on quick prototyping rather than long-term code quality.\n",
    "- When the code is for personal use and won't be shared or reused."
   ]
  },
  {
   "cell_type": "markdown",
   "id": "b04e10dc",
   "metadata": {},
   "source": [
    "### Writing Clean Code: Meaningful Names\n",
    "#### Use meaningful names.\n",
    "\n",
    "- Be descriptive and imply type: For booleans, you can prefix with is_ or has_ to make it clear it is a condition. You can also use parts of speech to imply types, like using verbs for functions and nouns for variables.\n",
    "- Be consistent but clearly differentiate: age_list and age is easier to differentiate than ages and age.\n",
    "- Avoid abbreviations and single letters: You can determine when to make these exceptions based on the audience for your code. If you work with other data scientists, certain variables may be common knowledge. While if you work with full stack engineers, it might be necessary to provide more descriptive names in these cases as well. (Exceptions include counters and common math variables.)\n",
    "- Long names aren't the same as descriptive names: You should be descriptive, but only with relevant information. For example, good function names describe what they do well without including details about implementation or highly specific uses.\n",
    "\n",
    "### Writing Clean Code: Nice Whitespace\n",
    "#### Use whitespace properly.\n",
    "- Organize your code with consistent indentation: the standard is to use four spaces for each indent. You can make this a default in your text editor.\n",
    "- Separate sections with blank lines to keep your code well organized and readable.\n",
    "- Try to limit your lines to around 79 characters, which is the guideline given in the PEP 8 style guide. In many good text editors, there is a setting to display a subtle line that indicates where the 79 character limit is."
   ]
  },
  {
   "cell_type": "markdown",
   "id": "6848bd6b",
   "metadata": {},
   "source": [
    "### More tips\n",
    "#### Tip: DRY (Don't Repeat Yourself)\n",
    "Modularization allows you to reuse parts of your code. Generalize and consolidate repeated code in functions or loops.\n",
    "\n",
    "#### Tip: Abstract out logic to improve readability\n",
    "Abstracting out code into a function not only makes it less repetitive, but also improves readability with descriptive function names.\n",
    "\n",
    "#### Tip: Minimize the number of entities (functions, classes, modules, etc.)\n",
    ". If you have broken up your code into an unnecessary amount of functions and modules, you'll have to jump around everywhere if you want to view the implementation details for something that may be too small to be worth it.\n",
    "\n",
    "#### Tip: Functions should do one thing\n",
    "Each function you write should be focused on doing one thing\n",
    "\n",
    "#### Tip: Arbitrary variable names can be more effective in certain functions\n",
    "Arbitrary variable names in general functions can actually make the code more readable.\n",
    "\n",
    "#### Tip: Try to use fewer than three arguments per function\n",
    "Try to use no more than three arguments when possible. This is not a hard rule and there are times when it is more appropriate to use many parameters. \n"
   ]
  },
  {
   "cell_type": "markdown",
   "id": "23290876",
   "metadata": {},
   "source": [
    "### Efficient Code\n",
    "Optimizing code to be more efficient can mean making it:\n",
    "\n",
    "- execute faster\n",
    "- Take up less space in memory/storage\n",
    "\n",
    "Basically avoid using loops by using numpy methods or other methods\n",
    "\n",
    "### Documentation\n",
    "Several types of documentation can be added at different levels of your program:\n",
    "- Inline comments - line level\n",
    "- Docstrings - module and function level\n",
    "- Project documentation - project level\n"
   ]
  },
  {
   "cell_type": "markdown",
   "id": "5878b6c9",
   "metadata": {},
   "source": [
    "### How to automate cleaning your code\n",
    "- Two ways to automate clean code are with\n",
    "    - pylint\n",
    "    - autopep8\n",
    "- pylint script_name.py will provide feedback on updates to make to your code, as well as a score out of 10 that can help you understand which improvements are most important.\n",
    "- autopep8 --in-place --aggressive --aggressive script_name.py will attempt to automatically clean up your code."
   ]
  },
  {
   "cell_type": "code",
   "execution_count": null,
   "id": "8243d79f",
   "metadata": {},
   "outputs": [],
   "source": [
    "pip install pylint\n",
    "pip install autopep8"
   ]
  },
  {
   "cell_type": "markdown",
   "id": "5afe57a4",
   "metadata": {},
   "source": [
    "## Questions to Ask Yourself when Conducting a Code Review\n",
    "First, let's look over some of the questions we might ask ourselves while reviewing code. These are drawn from the concepts covered throughout this course.\n",
    "\n",
    "### Is the code clean and modular?\n",
    "- Can I understand the code easily?\n",
    "- Does it use meaningful names and whitespace?\n",
    "- Is there duplicated code?\n",
    "- Can I provide another layer of abstraction?\n",
    "- Is each function and module necessary?\n",
    "- Is each function or module too long?\n",
    "\n",
    "### Is the code efficient?\n",
    "- Are there loops or other steps I can vectorize?\n",
    "- Can I use better data structures to optimize any steps?\n",
    "- Can I shorten the number of calculations needed for any steps?\n",
    "- Can I use generators or multiprocessing to optimize any steps?\n",
    "\n",
    "### Is the documentation effective?\n",
    "- Are inline comments concise and meaningful?\n",
    "- Is there complex code that's missing documentation?\n",
    "- Do functions use effective docstrings?\n",
    "- Is the necessary project documentation provided?\n",
    "\n",
    "### Is the code well tested?\n",
    "- Does the code high test coverage?\n",
    "- Do tests check for interesting cases?\n",
    "- Are the tests readable?\n",
    "- Can the tests be made more efficient?\n",
    "\n",
    "### Is the logging effective?\n",
    "- Are log messages clear, concise, and professional?\n",
    "- Do they include all relevant and useful information?\n",
    "- Do they use the appropriate logging level?"
   ]
  },
  {
   "cell_type": "code",
   "execution_count": null,
   "id": "5007b12a",
   "metadata": {},
   "outputs": [],
   "source": []
  }
 ],
 "metadata": {
  "kernelspec": {
   "display_name": "Python 3 (ipykernel)",
   "language": "python",
   "name": "python3"
  },
  "language_info": {
   "codemirror_mode": {
    "name": "ipython",
    "version": 3
   },
   "file_extension": ".py",
   "mimetype": "text/x-python",
   "name": "python",
   "nbconvert_exporter": "python",
   "pygments_lexer": "ipython3",
   "version": "3.10.4"
  }
 },
 "nbformat": 4,
 "nbformat_minor": 5
}
