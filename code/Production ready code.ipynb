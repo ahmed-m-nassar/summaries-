{
 "cells": [
  {
   "cell_type": "markdown",
   "id": "6ad40214",
   "metadata": {},
   "source": [
    "# Catching Errors"
   ]
  },
  {
   "cell_type": "markdown",
   "id": "391147d9",
   "metadata": {},
   "source": [
    "In Python, the try/except statement is used to catch and handle errors or exceptions that may occur during the execution of a program. The try block contains the code that may raise an exception, and the except block specifies the actions to be taken if an exception is raised.\n",
    "\n",
    "Here are some examples : "
   ]
  },
  {
   "cell_type": "code",
   "execution_count": null,
   "id": "fc33199e",
   "metadata": {},
   "outputs": [],
   "source": [
    "#Handle a specific error\n",
    "try:\n",
    "    num = int(input(\"Enter a number: \"))\n",
    "    result = 10 / num\n",
    "    print(\"Result:\", result)\n",
    "except ZeroDivisionError:\n",
    "    print(\"Error: Cannot divide by zero.\")"
   ]
  },
  {
   "cell_type": "code",
   "execution_count": null,
   "id": "c3723f44",
   "metadata": {},
   "outputs": [],
   "source": [
    "#Handle multiple exceptions\n",
    "try:\n",
    "    num = int(input(\"Enter a number: \"))\n",
    "    result = 10 / num\n",
    "    print(\"Result:\", result)\n",
    "except ZeroDivisionError:\n",
    "    print(\"Error: Cannot divide by zero.\")\n",
    "except ValueError:\n",
    "    print(\"Error: Invalid input. Please enter a number.\")"
   ]
  },
  {
   "cell_type": "code",
   "execution_count": null,
   "id": "ed6f562c",
   "metadata": {},
   "outputs": [],
   "source": [
    "#Using generic exception\n",
    "try:\n",
    "    num = int(input(\"Enter a number: \"))\n",
    "    result = 10 / num\n",
    "    print(\"Result:\", result)\n",
    "except Exception as e:\n",
    "    print(\"An error occurred:\", str(e))"
   ]
  },
  {
   "cell_type": "markdown",
   "id": "877c5235",
   "metadata": {},
   "source": [
    "# Testing \n",
    "\n",
    "__1. Errors of Implementation:__\n",
    "\n",
    "__Problem__ :\n",
    "These are fundamental errors in the programming or coding aspect of data analysis. For instance, simple mistakes like incorrect mathematical operations (e.g., multiplication instead of division) or failing to manage numerical errors properly can lead to flawed outcomes. The challenge in data analysis lies in detecting these errors, especially when dealing with large volumes of data.\n",
    "\n",
    "__Solution__:\n",
    "Adopting a test-driven approach similar to software development can help catch implementation errors early. Creating tests to validate the correctness of input data and the consistency of outcomes against expected results can prevent these mistakes. This involves specifying and verifying the steps in the analytical process to ensure accuracy.\n",
    "\n",
    "__2. Errors of Interpretation__:\n",
    "\n",
    "__Problem__:These errors arise when there's a misunderstanding or misinterpretation of data, whether in terms of the accuracy of values or their intended meaning. Even with accurate data, misconceptions and misinterpretations can lead to flawed conclusions. Asking the wrong questions or making assumptions about the data can also skew analysis.\n",
    "\n",
    "__Solution__: The article proposes the use of richer metadata and a more nuanced type system to capture implicit assumptions made during data transformations. This approach aims to prevent misunderstandings by providing contextual information and ensuring that the data is interpreted accurately.\n",
    "\n",
    "__3. Errors of Process__:\n",
    "\n",
    "__Problem__ :Applying statistical methods or transformations incorrectly can lead to errors. Assumptions underlying statistical inferences might not hold true in all cases, and unforeseen consequences of data transformations (such as dealing with missing or duplicate values) can produce unjustifiable results.\n",
    "\n",
    "__Solution__: Employing a test-driven development methodology to specify, verify, and automate analytical processes can help detect these errors. This involves developing tools and techniques to test statistical assumptions and ensure the validity of transformations applied to the data.\n",
    "\n",
    "__4. Errors of Applicability__:\n",
    "\n",
    "__Problem__\n",
    "Analytical processes might be too specific to the initial dataset, making it challenging to replicate or apply the analysis to updated data with slight variations. Overfitting the analysis to the training dataset or embedding assumptions that limit applicability in a production setting are examples of this problem.\n",
    "\n",
    "__Solution__: Enhancing tool support and methodology to create more adaptable analytical processes is proposed. By creating tests that ensure the analysis remains robust across different datasets and variations, the aim is to increase the applicability and reliability of the analytical models developed."
   ]
  },
  {
   "cell_type": "markdown",
   "id": "e48a2d52",
   "metadata": {},
   "source": [
    "### Unit Testing:\n",
    "__Advantages and Disadvantages__\n",
    "The advantage of unit tests is that they are isolated from the rest of your program, and thus, no dependencies are involved. They don't require access to databases, APIs, or other external sources of information. However, passing unit tests isn’t always enough to prove that our program is working successfully. To show that all the parts of our program work with each other properly, communicating and transferring data between them correctly, we use integration tests.\n",
    "\n",
    "#### Unit Testing Tool : Pytest\n",
    "pytest is a testing framework for Python that makes it easy to write simple and scalable tests. \n",
    "\n",
    "__To install__ : \n",
    "pip install -U pytest\n",
    "\n",
    "\n",
    "__Writing tests__ :\n",
    "Let's create a simple Python file named test_math.py to demonstrate some basic "
   ]
  },
  {
   "cell_type": "code",
   "execution_count": null,
   "id": "8899d91f",
   "metadata": {},
   "outputs": [],
   "source": [
    "# test_math.py\n",
    "\n",
    "def add(a, b):\n",
    "    return a + b\n",
    "\n",
    "def multiply(a, b):\n",
    "    return a * b\n",
    "\n",
    "# Test function names should start with 'test_'\n",
    "def test_addition():\n",
    "    assert add(2, 3) == 5\n",
    "    assert add(1, -1) == 0\n",
    "\n",
    "def test_multiplication():\n",
    "    assert multiply(2, 3) == 6\n",
    "    assert multiply(4, 0) == 0"
   ]
  },
  {
   "cell_type": "markdown",
   "id": "fe370212",
   "metadata": {},
   "source": [
    "#### Running Tests:\n",
    "Once you've written your test file (e.g., test_math.py), open a terminal or command prompt, navigate to the directory containing your test file, and simply run:\n",
    "\n",
    "__pytest__ :\n",
    "\n",
    "This command automatically identifies and executes any functions that start with test_ in files named test_*.py or *_test.py."
   ]
  },
  {
   "cell_type": "markdown",
   "id": "e767c0c4",
   "metadata": {},
   "source": [
    "# Logging\n",
    "Using logging in Python allows you to record useful information, warnings, errors, etc., during the execution of your code. Here's a step-by-step guide to using the logging module:"
   ]
  },
  {
   "cell_type": "markdown",
   "id": "8fa65987",
   "metadata": {},
   "source": [
    "__Step 1: Import the Logging Module__"
   ]
  },
  {
   "cell_type": "code",
   "execution_count": null,
   "id": "6c3633ec",
   "metadata": {},
   "outputs": [],
   "source": [
    "import logging"
   ]
  },
  {
   "cell_type": "markdown",
   "id": "8a0d2236",
   "metadata": {},
   "source": [
    "__Step 2: Configure Logging (Optional)__\n",
    "\n",
    "Basic Configuration: You can set a basic configuration for logging to the console with a specific logging level."
   ]
  },
  {
   "cell_type": "code",
   "execution_count": null,
   "id": "4fc40390",
   "metadata": {},
   "outputs": [],
   "source": [
    "logging.basicConfig(level=logging.DEBUG)  # Setting the logging level"
   ]
  },
  {
   "cell_type": "markdown",
   "id": "6d136956",
   "metadata": {},
   "source": [
    "__Advanced Configuration:__\n",
    "\n",
    "You can configure logging in more detail, specifying a file to save logs, formatting, etc."
   ]
  },
  {
   "cell_type": "code",
   "execution_count": null,
   "id": "b55b625c",
   "metadata": {},
   "outputs": [],
   "source": [
    "logging.basicConfig(filename='example.log', level=logging.DEBUG, \n",
    "                    format='%(asctime)s - %(name)s - %(levelname)s - %(message)s')\n"
   ]
  },
  {
   "cell_type": "markdown",
   "id": "11619c57",
   "metadata": {},
   "source": [
    "__Step 3: Logging Messages__\n",
    "\n",
    "Log Messages: Use different logging levels (DEBUG, INFO, WARNING, ERROR, CRITICAL) to log messages based on their severity."
   ]
  },
  {
   "cell_type": "code",
   "execution_count": null,
   "id": "3d91089a",
   "metadata": {},
   "outputs": [],
   "source": [
    "logging.debug('This is a debug message')\n",
    "logging.info('This is an info message')\n",
    "logging.warning('This is a warning message')\n",
    "logging.error('This is an error message')\n",
    "logging.critical('This is a critical message')"
   ]
  },
  {
   "cell_type": "markdown",
   "id": "e9438a43",
   "metadata": {},
   "source": [
    "__Putting it all together__\n"
   ]
  },
  {
   "cell_type": "code",
   "execution_count": null,
   "id": "c56da298",
   "metadata": {},
   "outputs": [],
   "source": [
    "import logging\n",
    "\n",
    "# Configure logging\n",
    "logging.basicConfig(filename='example.log', level=logging.DEBUG, \n",
    "                    format='%(asctime)s - %(name)s - %(levelname)s - %(message)s')\n",
    "\n",
    "# Log messages\n",
    "logging.debug('This is a debug message')\n",
    "logging.info('This is an info message')\n",
    "logging.warning('This is a warning message')\n",
    "logging.error('This is an error message')\n",
    "logging.critical('This is a critical message')\n"
   ]
  },
  {
   "cell_type": "markdown",
   "id": "3ba30541",
   "metadata": {},
   "source": [
    "__Log Levels:__\n",
    "\n",
    "Setting the logging level determines which severity levels and above will be captured. For example, if the level is set to INFO, all INFO, WARNING, ERROR, and CRITICAL messages will be logged, but not the DEBUG messages. If it's set to ERROR, only ERROR and CRITICAL messages will be captured.\n",
    "\n",
    "__DEBUG__: Detailed information, useful for debugging.\n",
    "\n",
    "__INFO__: General information about the program's execution.\n",
    "\n",
    "__WARNING__: Indicates something unexpected happened, but the program can still continue.\n",
    "\n",
    "__ERROR__: Indicates a more serious problem that might cause the program to fail.\n",
    "\n",
    "__CRITICAL__: A severe error that might lead to the program's termination."
   ]
  },
  {
   "cell_type": "markdown",
   "id": "a11703ad",
   "metadata": {},
   "source": [
    "# Assertions + Try Except + Logging"
   ]
  },
  {
   "cell_type": "code",
   "execution_count": null,
   "id": "9f9b4ba6",
   "metadata": {},
   "outputs": [],
   "source": [
    "import logging\n",
    "\n",
    "# Configure logging\n",
    "logging.basicConfig(filename='example.log', level=logging.DEBUG, \n",
    "                    format='%(asctime)s - %(name)s - %(levelname)s - %(message)s')\n",
    "\n",
    "def perform_multiple_checks(a, b):\n",
    "    try:\n",
    "        assert a > 0, \"First number should be positive\"\n",
    "        assert b != 0, \"Second number cannot be zero\"\n",
    "        assert isinstance(a, int), \"First number should be an integer\"\n",
    "        # More assertions can be added here as needed\n",
    "\n",
    "        # If all assertions pass, log success\n",
    "        logging.info(\"All assertions passed successfully\")\n",
    "    except AssertionError as e:\n",
    "        logging.error(f\"Assertion failed: {e}\")\n",
    "        print(\"Assertion failed:\", e)\n",
    "\n",
    "# Test the function\n",
    "perform_multiple_checks(10, 5)   # Successful checks\n",
    "perform_multiple_checks(-5, 6)   # Fails first assertion (positive number)\n",
    "perform_multiple_checks(10, 0)   # Fails second assertion (non-zero number)\n",
    "perform_multiple_checks(10.5, 5)  # Fails third assertion (integer)"
   ]
  }
 ],
 "metadata": {
  "kernelspec": {
   "display_name": "Python 3 (ipykernel)",
   "language": "python",
   "name": "python3"
  },
  "language_info": {
   "codemirror_mode": {
    "name": "ipython",
    "version": 3
   },
   "file_extension": ".py",
   "mimetype": "text/x-python",
   "name": "python",
   "nbconvert_exporter": "python",
   "pygments_lexer": "ipython3",
   "version": "3.10.4"
  }
 },
 "nbformat": 4,
 "nbformat_minor": 5
}
