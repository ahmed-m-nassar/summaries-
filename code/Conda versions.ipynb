{
 "cells": [
  {
   "cell_type": "markdown",
   "id": "ccde60dd-2f5d-4962-81d5-cb215bf367cc",
   "metadata": {},
   "source": [
    "# Latest conda versions for packages\n"
   ]
  },
  {
   "cell_type": "code",
   "execution_count": null,
   "id": "8d02df8c-3812-449b-866c-a54c7b0e92ab",
   "metadata": {},
   "outputs": [],
   "source": [
    "name: download_data\n",
    "channels:\n",
    "  - conda-forge\n",
    "  - defaults\n",
    "dependencies:\n",
    "  - pandas=2.1.4\n",
    "  - pandas-profiling=3.6.3\n",
    "  - jupyter=1.0.0\n",
    "  - requests=2.31.0\n",
    "  - pip=23.3.2\n",
    "  - pytest=7.4.0\n",
    "  - scipy=1.11.4\n",
    "  - scikit-learn=1.3.0\n",
    "  - matplotlib==3.8.2\n",
    "  - plotly==5.18.0\n",
    "  - pillow=10.0.1\n",
    "  - pyarrow=11.0.0\n",
    "  - mlflow=2.9.2\n",
    "  - hydra-core=1.3.2\n",
    "  - pip:\n",
    "      - wandb==0.16.1\n",
    "      - hydra-joblib-launcher==1.2.0\n",
    "      - omegaconf==2.3.0\n"
   ]
  }
 ],
 "metadata": {
  "kernelspec": {
   "display_name": "Python 3 (ipykernel)",
   "language": "python",
   "name": "python3"
  },
  "language_info": {
   "codemirror_mode": {
    "name": "ipython",
    "version": 3
   },
   "file_extension": ".py",
   "mimetype": "text/x-python",
   "name": "python",
   "nbconvert_exporter": "python",
   "pygments_lexer": "ipython3",
   "version": "3.10.4"
  }
 },
 "nbformat": 4,
 "nbformat_minor": 5
}
