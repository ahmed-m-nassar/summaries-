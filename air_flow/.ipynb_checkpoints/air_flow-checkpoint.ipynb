{
 "cells": [
  {
   "cell_type": "markdown",
   "id": "f42966a3-8181-4398-9b06-c9dfb24431b6",
   "metadata": {},
   "source": [
    "## What is airflow \n",
    "Airflow allows users to define, schedule, and monitor workflows as Directed Acyclic Graphs (DAGs), which are collections of tasks with dependencies between them.\n",
    "\n",
    "**DAGs (Directed Acyclic Graphs):**\n",
    "\n",
    "- In Airflow, workflows are represented as Directed Acyclic Graphs (DAGs).\n",
    "- DAGs consist of tasks and dependencies between them.\n",
    "- Tasks represent individual units of work to be executed.\n",
    "\n",
    "**Operators:**\n",
    "- Tasks within a DAG are implemented using Operators.\n",
    "- Operators define what actually gets done by each task.\n",
    "- There are various built-in operators for common tasks like BashOperator for executing bash commands, PythonOperator for executing Python functions, etc.\n",
    "- You can also define custom operators to suit your specific needs.\n",
    "\n",
    "\n",
    "**Schedulers:**\n",
    "- Aas a scheduler component that orchestrates the execution of tasks based on their dependencies and schedule.\n",
    "- It continuously monitors all tasks and triggers the execution of tasks that are ready to run.\n",
    "\n",
    "**Executors:**\n",
    "- Executors determine how tasks are executed.\n",
    "- The most common executor is the SequentialExecutor, which runs tasks sequentially in a single process.\n",
    "- Other executors like LocalExecutor, CeleryExecutor, or KubernetesExecutor allow for distributed task execution."
   ]
  }
 ],
 "metadata": {
  "kernelspec": {
   "display_name": "Python 3 (ipykernel)",
   "language": "python",
   "name": "python3"
  },
  "language_info": {
   "codemirror_mode": {
    "name": "ipython",
    "version": 3
   },
   "file_extension": ".py",
   "mimetype": "text/x-python",
   "name": "python",
   "nbconvert_exporter": "python",
   "pygments_lexer": "ipython3",
   "version": "3.10.4"
  }
 },
 "nbformat": 4,
 "nbformat_minor": 5
}
